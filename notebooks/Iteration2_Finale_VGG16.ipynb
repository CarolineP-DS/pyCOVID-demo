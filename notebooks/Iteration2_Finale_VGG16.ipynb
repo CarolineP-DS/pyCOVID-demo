{
  "nbformat": 4,
  "nbformat_minor": 5,
  "metadata": {
    "kernelspec": {
      "name": "python3",
      "display_name": "Python 3"
    },
    "colab": {
      "name": "Iteration2--Finale--VGG16.ipynb",
      "provenance": [],
      "collapsed_sections": [],
      "toc_visible": true,
      "include_colab_link": true
    },
    "accelerator": "GPU"
  },
  "cells": [
    {
      "cell_type": "markdown",
      "metadata": {
        "id": "view-in-github",
        "colab_type": "text"
      },
      "source": [
        "<a href=\"https://colab.research.google.com/github/CarolineP-DS/pyCOVID-demo/blob/master/notebooks/Iteration2_Finale_VGG16.ipynb\" target=\"_parent\"><img src=\"https://colab.research.google.com/assets/colab-badge.svg\" alt=\"Open In Colab\"/></a>"
      ]
    },
    {
      "cell_type": "markdown",
      "metadata": {
        "id": "hybrid-webmaster"
      },
      "source": [
        "# Step 4 : Modelisation Iteration 2"
      ],
      "id": "hybrid-webmaster"
    },
    {
      "cell_type": "markdown",
      "metadata": {
        "id": "ogAu3yZhpFAS"
      },
      "source": [
        "## Google Colab: import data & check GPU activation\n",
        "\n",
        "1. Data folder has been uploaded to Google Drive. Leaving it there increases x30 computing time : we need to extract it to the local Colab disk.\n",
        "1. Google Colab enables GPU acceleration. It needs to be switched on in the `Runtime > Change Runtime type` menu. We check if GPU is activated and detectable. Output should be something like `\"Found GPU at: /device:GPU:0\"`. If `\"GPU device not found\"`, then GPU is not enabled."
      ],
      "id": "ogAu3yZhpFAS"
    },
    {
      "cell_type": "code",
      "metadata": {
        "id": "WmwTb2cEvrfD",
        "colab": {
          "base_uri": "https://localhost:8080/"
        },
        "outputId": "7ef653f7-4f5c-4aa2-e91b-380578c12715"
      },
      "source": [
        "### If \"data\" folder doesn't exist, then mount GDrive, extract data and unmount GDrive\n",
        "\n",
        "import os\n",
        "if os.path.isdir('./data'):\n",
        "  print(\"Data is already on local disk, skipping importing step.\")\n",
        "\n",
        "else:\n",
        "  ## Mount and access Google Drive\n",
        "  from google.colab import drive\n",
        "  drive.mount('/content/gdrive')\n",
        "\n",
        "  ## Unzip pyCOVID_data.7z to local Colab disk\n",
        "  !7z x \"./gdrive/My Drive/pyCOVID/pyCOVID_data.7z\""
      ],
      "id": "WmwTb2cEvrfD",
      "execution_count": null,
      "outputs": [
        {
          "output_type": "stream",
          "text": [
            "Mounted at /content/gdrive\n",
            "\n",
            "7-Zip [64] 16.02 : Copyright (c) 1999-2016 Igor Pavlov : 2016-05-21\n",
            "p7zip Version 16.02 (locale=en_US.UTF-8,Utf16=on,HugeFiles=on,64 bits,2 CPUs Intel(R) Xeon(R) CPU @ 2.20GHz (406F0),ASM,AES-NI)\n",
            "\n",
            "Scanning the drive for archives:\n",
            "  0M Scan ./gdrive/My Drive/pyCOVID/\b\b\b\b\b\b\b\b\b\b\b\b\b\b\b\b\b\b\b\b\b\b\b\b\b\b\b\b\b\b\b\b\b\b\b\b                                    \b\b\b\b\b\b\b\b\b\b\b\b\b\b\b\b\b\b\b\b\b\b\b\b\b\b\b\b\b\b\b\b\b\b\b\b1 file, 1215956129 bytes (1160 MiB)\n",
            "\n",
            "Extracting archive: ./gdrive/My Drive/pyCOVID/pyCOVID_data.7z\n",
            "--\n",
            "Path = ./gdrive/My Drive/pyCOVID/pyCOVID_data.7z\n",
            "Type = 7z\n",
            "Physical Size = 1215956129\n",
            "Headers Size = 27782\n",
            "Method = LZMA2:24\n",
            "Solid = +\n",
            "Blocks = 1\n",
            "\n",
            "  0%\b\b\b\b    \b\b\b\b  1% 170 - data/COVID/COVID (1147).png\b\b\b\b\b\b\b\b\b\b\b\b\b\b\b\b\b\b\b\b\b\b\b\b\b\b\b\b\b\b\b\b\b\b\b\b\b\b                                      \b\b\b\b\b\b\b\b\b\b\b\b\b\b\b\b\b\b\b\b\b\b\b\b\b\b\b\b\b\b\b\b\b\b\b\b\b\b  2% 190 - data/COVID/COVID (1165).png\b\b\b\b\b\b\b\b\b\b\b\b\b\b\b\b\b\b\b\b\b\b\b\b\b\b\b\b\b\b\b\b\b\b\b\b\b\b                                      \b\b\b\b\b\b\b\b\b\b\b\b\b\b\b\b\b\b\b\b\b\b\b\b\b\b\b\b\b\b\b\b\b\b\b\b\b\b  3% 194 - data/COVID/COVID (1169).png\b\b\b\b\b\b\b\b\b\b\b\b\b\b\b\b\b\b\b\b\b\b\b\b\b\b\b\b\b\b\b\b\b\b\b\b\b\b                                      \b\b\b\b\b\b\b\b\b\b\b\b\b\b\b\b\b\b\b\b\b\b\b\b\b\b\b\b\b\b\b\b\b\b\b\b\b\b  3% 202 - data/COVID/COVID (1176).png\b\b\b\b\b\b\b\b\b\b\b\b\b\b\b\b\b\b\b\b\b\b\b\b\b\b\b\b\b\b\b\b\b\b\b\b\b\b                                      \b\b\b\b\b\b\b\b\b\b\b\b\b\b\b\b\b\b\b\b\b\b\b\b\b\b\b\b\b\b\b\b\b\b\b\b\b\b  3% 207 - data/COVID/COVID (1180).png\b\b\b\b\b\b\b\b\b\b\b\b\b\b\b\b\b\b\b\b\b\b\b\b\b\b\b\b\b\b\b\b\b\b\b\b\b\b                                      \b\b\b\b\b\b\b\b\b\b\b\b\b\b\b\b\b\b\b\b\b\b\b\b\b\b\b\b\b\b\b\b\b\b\b\b\b\b  3% 213 - data/COVID/COVID (1186).png\b\b\b\b\b\b\b\b\b\b\b\b\b\b\b\b\b\b\b\b\b\b\b\b\b\b\b\b\b\b\b\b\b\b\b\b\b\b                                      \b\b\b\b\b\b\b\b\b\b\b\b\b\b\b\b\b\b\b\b\b\b\b\b\b\b\b\b\b\b\b\b\b\b\b\b\b\b  4% 219 - data/COVID/COVID (1191).png\b\b\b\b\b\b\b\b\b\b\b\b\b\b\b\b\b\b\b\b\b\b\b\b\b\b\b\b\b\b\b\b\b\b\b\b\b\b                                      \b\b\b\b\b\b\b\b\b\b\b\b\b\b\b\b\b\b\b\b\b\b\b\b\b\b\b\b\b\b\b\b\b\b\b\b\b\b  4% 225 - data/COVID/COVID (1197).png\b\b\b\b\b\b\b\b\b\b\b\b\b\b\b\b\b\b\b\b\b\b\b\b\b\b\b\b\b\b\b\b\b\b\b\b\b\b                                      \b\b\b\b\b\b\b\b\b\b\b\b\b\b\b\b\b\b\b\b\b\b\b\b\b\b\b\b\b\b\b\b\b\b\b\b\b\b  5% 502 - data/COVID/COVID (366).png\b\b\b\b\b\b\b\b\b\b\b\b\b\b\b\b\b\b\b\b\b\b\b\b\b\b\b\b\b\b\b\b\b\b\b\b\b                                     \b\b\b\b\b\b\b\b\b\b\b\b\b\b\b\b\b\b\b\b\b\b\b\b\b\b\b\b\b\b\b\b\b\b\b\b\b  6% 843 - data/COVID/COVID (673).png\b\b\b\b\b\b\b\b\b\b\b\b\b\b\b\b\b\b\b\b\b\b\b\b\b\b\b\b\b\b\b\b\b\b\b\b\b                                     \b\b\b\b\b\b\b\b\b\b\b\b\b\b\b\b\b\b\b\b\b\b\b\b\b\b\b\b\b\b\b\b\b\b\b\b\b  7% 1091 - data/COVID/COVID (897).png\b\b\b\b\b\b\b\b\b\b\b\b\b\b\b\b\b\b\b\b\b\b\b\b\b\b\b\b\b\b\b\b\b\b\b\b\b\b                                      \b\b\b\b\b\b\b\b\b\b\b\b\b\b\b\b\b\b\b\b\b\b\b\b\b\b\b\b\b\b\b\b\b\b\b\b\b\b  8% 1215 - data/NORMAL/NORMAL (1006).png\b\b\b\b\b\b\b\b\b\b\b\b\b\b\b\b\b\b\b\b\b\b\b\b\b\b\b\b\b\b\b\b\b\b\b\b\b\b\b\b\b                                         \b\b\b\b\b\b\b\b\b\b\b\b\b\b\b\b\b\b\b\b\b\b\b\b\b\b\b\b\b\b\b\b\b\b\b\b\b\b\b\b\b  8% 1228 - data/NORMAL/NORMAL (1018).png\b\b\b\b\b\b\b\b\b\b\b\b\b\b\b\b\b\b\b\b\b\b\b\b\b\b\b\b\b\b\b\b\b\b\b\b\b\b\b\b\b                                         \b\b\b\b\b\b\b\b\b\b\b\b\b\b\b\b\b\b\b\b\b\b\b\b\b\b\b\b\b\b\b\b\b\b\b\b\b\b\b\b\b  8% 1229 - data/NORMAL/NORMAL (1019).png\b\b\b\b\b\b\b\b\b\b\b\b\b\b\b\b\b\b\b\b\b\b\b\b\b\b\b\b\b\b\b\b\b\b\b\b\b\b\b\b\b                                         \b\b\b\b\b\b\b\b\b\b\b\b\b\b\b\b\b\b\b\b\b\b\b\b\b\b\b\b\b\b\b\b\b\b\b\b\b\b\b\b\b 10% 1265 - data/NORMAL/NORMAL (1051).png\b\b\b\b\b\b\b\b\b\b\b\b\b\b\b\b\b\b\b\b\b\b\b\b\b\b\b\b\b\b\b\b\b\b\b\b\b\b\b\b\b                                         \b\b\b\b\b\b\b\b\b\b\b\b\b\b\b\b\b\b\b\b\b\b\b\b\b\b\b\b\b\b\b\b\b\b\b\b\b\b\b\b\b 10% 1276 - data/NORMAL/NORMAL (1061).png\b\b\b\b\b\b\b\b\b\b\b\b\b\b\b\b\b\b\b\b\b\b\b\b\b\b\b\b\b\b\b\b\b\b\b\b\b\b\b\b\b                                         \b\b\b\b\b\b\b\b\b\b\b\b\b\b\b\b\b\b\b\b\b\b\b\b\b\b\b\b\b\b\b\b\b\b\b\b\b\b\b\b\b 11% 1313 - data/NORMAL/NORMAL (1095).png\b\b\b\b\b\b\b\b\b\b\b\b\b\b\b\b\b\b\b\b\b\b\b\b\b\b\b\b\b\b\b\b\b\b\b\b\b\b\b\b\b                                         \b\b\b\b\b\b\b\b\b\b\b\b\b\b\b\b\b\b\b\b\b\b\b\b\b\b\b\b\b\b\b\b\b\b\b\b\b\b\b\b\b 14% 1367 - data/NORMAL/NORMAL (1143).png\b\b\b\b\b\b\b\b\b\b\b\b\b\b\b\b\b\b\b\b\b\b\b\b\b\b\b\b\b\b\b\b\b\b\b\b\b\b\b\b\b                                         \b\b\b\b\b\b\b\b\b\b\b\b\b\b\b\b\b\b\b\b\b\b\b\b\b\b\b\b\b\b\b\b\b\b\b\b\b\b\b\b\b 15% 1422 - data/NORMAL/NORMAL (1193).png\b\b\b\b\b\b\b\b\b\b\b\b\b\b\b\b\b\b\b\b\b\b\b\b\b\b\b\b\b\b\b\b\b\b\b\b\b\b\b\b\b                                         \b\b\b\b\b\b\b\b\b\b\b\b\b\b\b\b\b\b\b\b\b\b\b\b\b\b\b\b\b\b\b\b\b\b\b\b\b\b\b\b\b 22% 1606 - data/NORMAL/NORMAL (151).png\b\b\b\b\b\b\b\b\b\b\b\b\b\b\b\b\b\b\b\b\b\b\b\b\b\b\b\b\b\b\b\b\b\b\b\b\b\b\b\b                                        \b\b\b\b\b\b\b\b\b\b\b\b\b\b\b\b\b\b\b\b\b\b\b\b\b\b\b\b\b\b\b\b\b\b\b\b\b\b\b\b 27% 1734 - data/NORMAL/NORMAL (267).png\b\b\b\b\b\b\b\b\b\b\b\b\b\b\b\b\b\b\b\b\b\b\b\b\b\b\b\b\b\b\b\b\b\b\b\b\b\b\b\b                                        \b\b\b\b\b\b\b\b\b\b\b\b\b\b\b\b\b\b\b\b\b\b\b\b\b\b\b\b\b\b\b\b\b\b\b\b\b\b\b\b 31% 1842 - data/NORMAL/NORMAL (364).png\b\b\b\b\b\b\b\b\b\b\b\b\b\b\b\b\b\b\b\b\b\b\b\b\b\b\b\b\b\b\b\b\b\b\b\b\b\b\b\b                                        \b\b\b\b\b\b\b\b\b\b\b\b\b\b\b\b\b\b\b\b\b\b\b\b\b\b\b\b\b\b\b\b\b\b\b\b\b\b\b\b 35% 1966 - data/NORMAL/NORMAL (476).png\b\b\b\b\b\b\b\b\b\b\b\b\b\b\b\b\b\b\b\b\b\b\b\b\b\b\b\b\b\b\b\b\b\b\b\b\b\b\b\b                                        \b\b\b\b\b\b\b\b\b\b\b\b\b\b\b\b\b\b\b\b\b\b\b\b\b\b\b\b\b\b\b\b\b\b\b\b\b\b\b\b 36% 1979 - data/NORMAL/NORMAL (488).png\b\b\b\b\b\b\b\b\b\b\b\b\b\b\b\b\b\b\b\b\b\b\b\b\b\b\b\b\b\b\b\b\b\b\b\b\b\b\b\b                                        \b\b\b\b\b\b\b\b\b\b\b\b\b\b\b\b\b\b\b\b\b\b\b\b\b\b\b\b\b\b\b\b\b\b\b\b\b\b\b\b 40% 2081 - data/NORMAL/NORMAL (58).png\b\b\b\b\b\b\b\b\b\b\b\b\b\b\b\b\b\b\b\b\b\b\b\b\b\b\b\b\b\b\b\b\b\b\b\b\b\b\b                                       \b\b\b\b\b\b\b\b\b\b\b\b\b\b\b\b\b\b\b\b\b\b\b\b\b\b\b\b\b\b\b\b\b\b\b\b\b\b\b 45% 2225 - data/NORMAL/NORMAL (709).png\b\b\b\b\b\b\b\b\b\b\b\b\b\b\b\b\b\b\b\b\b\b\b\b\b\b\b\b\b\b\b\b\b\b\b\b\b\b\b\b                                        \b\b\b\b\b\b\b\b\b\b\b\b\b\b\b\b\b\b\b\b\b\b\b\b\b\b\b\b\b\b\b\b\b\b\b\b\b\b\b\b 49% 2310 - data/NORMAL/NORMAL (786).png\b\b\b\b\b\b\b\b\b\b\b\b\b\b\b\b\b\b\b\b\b\b\b\b\b\b\b\b\b\b\b\b\b\b\b\b\b\b\b\b                                        \b\b\b\b\b\b\b\b\b\b\b\b\b\b\b\b\b\b\b\b\b\b\b\b\b\b\b\b\b\b\b\b\b\b\b\b\b\b\b\b 53% 2421 - data/NORMAL/NORMAL (886).png\b\b\b\b\b\b\b\b\b\b\b\b\b\b\b\b\b\b\b\b\b\b\b\b\b\b\b\b\b\b\b\b\b\b\b\b\b\b\b\b                                        \b\b\b\b\b\b\b\b\b\b\b\b\b\b\b\b\b\b\b\b\b\b\b\b\b\b\b\b\b\b\b\b\b\b\b\b\b\b\b\b 57% 2539 - data/NORMAL/NORMAL (992).png\b\b\b\b\b\b\b\b\b\b\b\b\b\b\b\b\b\b\b\b\b\b\b\b\b\b\b\b\b\b\b\b\b\b\b\b\b\b\b\b                                        \b\b\b\b\b\b\b\b\b\b\b\b\b\b\b\b\b\b\b\b\b\b\b\b\b\b\b\b\b\b\b\b\b\b\b\b\b\b\b\b 62% 2694 - data/Viral Pneumonia/Viral Pneumonia (1129).png\b\b\b\b\b\b\b\b\b\b\b\b\b\b\b\b\b\b\b\b\b\b\b\b\b\b\b\b\b\b\b\b\b\b\b\b\b\b\b\b\b\b\b\b\b\b\b\b\b\b\b\b\b\b\b\b\b\b\b                                                           \b\b\b\b\b\b\b\b\b\b\b\b\b\b\b\b\b\b\b\b\b\b\b\b\b\b\b\b\b\b\b\b\b\b\b\b\b\b\b\b\b\b\b\b\b\b\b\b\b\b\b\b\b\b\b\b\b\b\b 68% 2904 - data/Viral Pneumonia/Viral Pneumonia (1318).png\b\b\b\b\b\b\b\b\b\b\b\b\b\b\b\b\b\b\b\b\b\b\b\b\b\b\b\b\b\b\b\b\b\b\b\b\b\b\b\b\b\b\b\b\b\b\b\b\b\b\b\b\b\b\b\b\b\b\b                                                           \b\b\b\b\b\b\b\b\b\b\b\b\b\b\b\b\b\b\b\b\b\b\b\b\b\b\b\b\b\b\b\b\b\b\b\b\b\b\b\b\b\b\b\b\b\b\b\b\b\b\b\b\b\b\b\b\b\b\b 73% 3051 - data/Viral Pneumonia/Viral Pneumonia (24).png\b\b\b\b\b\b\b\b\b\b\b\b\b\b\b\b\b\b\b\b\b\b\b\b\b\b\b\b\b\b\b\b\b\b\b\b\b\b\b\b\b\b\b\b\b\b\b\b\b\b\b\b\b\b\b\b\b                                                         \b\b\b\b\b\b\b\b\b\b\b\b\b\b\b\b\b\b\b\b\b\b\b\b\b\b\b\b\b\b\b\b\b\b\b\b\b\b\b\b\b\b\b\b\b\b\b\b\b\b\b\b\b\b\b\b\b 76% 3166 - data/Viral Pneumonia/Viral Pneumonia (343).png\b\b\b\b\b\b\b\b\b\b\b\b\b\b\b\b\b\b\b\b\b\b\b\b\b\b\b\b\b\b\b\b\b\b\b\b\b\b\b\b\b\b\b\b\b\b\b\b\b\b\b\b\b\b\b\b\b\b                                                          \b\b\b\b\b\b\b\b\b\b\b\b\b\b\b\b\b\b\b\b\b\b\b\b\b\b\b\b\b\b\b\b\b\b\b\b\b\b\b\b\b\b\b\b\b\b\b\b\b\b\b\b\b\b\b\b\b\b 81% 3297 - data/Viral Pneumonia/Viral Pneumonia (461).png\b\b\b\b\b\b\b\b\b\b\b\b\b\b\b\b\b\b\b\b\b\b\b\b\b\b\b\b\b\b\b\b\b\b\b\b\b\b\b\b\b\b\b\b\b\b\b\b\b\b\b\b\b\b\b\b\b\b                                                          \b\b\b\b\b\b\b\b\b\b\b\b\b\b\b\b\b\b\b\b\b\b\b\b\b\b\b\b\b\b\b\b\b\b\b\b\b\b\b\b\b\b\b\b\b\b\b\b\b\b\b\b\b\b\b\b\b\b 86% 3457 - data/Viral Pneumonia/Viral Pneumonia (605).png\b\b\b\b\b\b\b\b\b\b\b\b\b\b\b\b\b\b\b\b\b\b\b\b\b\b\b\b\b\b\b\b\b\b\b\b\b\b\b\b\b\b\b\b\b\b\b\b\b\b\b\b\b\b\b\b\b\b                                                          \b\b\b\b\b\b\b\b\b\b\b\b\b\b\b\b\b\b\b\b\b\b\b\b\b\b\b\b\b\b\b\b\b\b\b\b\b\b\b\b\b\b\b\b\b\b\b\b\b\b\b\b\b\b\b\b\b\b 89% 3577 - data/Viral Pneumonia/Viral Pneumonia (713).png\b\b\b\b\b\b\b\b\b\b\b\b\b\b\b\b\b\b\b\b\b\b\b\b\b\b\b\b\b\b\b\b\b\b\b\b\b\b\b\b\b\b\b\b\b\b\b\b\b\b\b\b\b\b\b\b\b\b                                                          \b\b\b\b\b\b\b\b\b\b\b\b\b\b\b\b\b\b\b\b\b\b\b\b\b\b\b\b\b\b\b\b\b\b\b\b\b\b\b\b\b\b\b\b\b\b\b\b\b\b\b\b\b\b\b\b\b\b 93% 3694 - data/Viral Pneumonia/Viral Pneumonia (819).png\b\b\b\b\b\b\b\b\b\b\b\b\b\b\b\b\b\b\b\b\b\b\b\b\b\b\b\b\b\b\b\b\b\b\b\b\b\b\b\b\b\b\b\b\b\b\b\b\b\b\b\b\b\b\b\b\b\b                                                          \b\b\b\b\b\b\b\b\b\b\b\b\b\b\b\b\b\b\b\b\b\b\b\b\b\b\b\b\b\b\b\b\b\b\b\b\b\b\b\b\b\b\b\b\b\b\b\b\b\b\b\b\b\b\b\b\b\b 97% 3809 - data/Viral Pneumonia/Viral Pneumonia (922).png\b\b\b\b\b\b\b\b\b\b\b\b\b\b\b\b\b\b\b\b\b\b\b\b\b\b\b\b\b\b\b\b\b\b\b\b\b\b\b\b\b\b\b\b\b\b\b\b\b\b\b\b\b\b\b\b\b\b                                                          \b\b\b\b\b\b\b\b\b\b\b\b\b\b\b\b\b\b\b\b\b\b\b\b\b\b\b\b\b\b\b\b\b\b\b\b\b\b\b\b\b\b\b\b\b\b\b\b\b\b\b\b\b\b\b\b\b\bEverything is Ok\n",
            "\n",
            "Folders: 4\n",
            "Files: 3890\n",
            "Size:       1221713675\n",
            "Compressed: 1215956129\n"
          ],
          "name": "stdout"
        }
      ]
    },
    {
      "cell_type": "code",
      "metadata": {
        "colab": {
          "base_uri": "https://localhost:8080/"
        },
        "id": "Zrdz7rDh0PC7",
        "outputId": "82f71411-4ae7-4840-d39c-7ebcaa5d7036"
      },
      "source": [
        "### Check if GPU is being used\n",
        "## print output should say : \"Found GPU at: /device:GPU:0\"\n",
        "# if \"GPU device not found\", go to Runtime > Change Runtime type & select GPU\n",
        "\n",
        "%tensorflow_version 2.x\n",
        "import tensorflow as tf\n",
        "gpu_name = tf.test.gpu_device_name()\n",
        "if gpu_name != '/device:GPU:0':\n",
        "  raise SystemError('GPU device not found')\n",
        "print('Found GPU at: {}'.format(gpu_name))"
      ],
      "id": "Zrdz7rDh0PC7",
      "execution_count": null,
      "outputs": [
        {
          "output_type": "stream",
          "text": [
            "Found GPU at: /device:GPU:0\n"
          ],
          "name": "stdout"
        }
      ]
    },
    {
      "cell_type": "markdown",
      "metadata": {
        "id": "LyHQA2__GUWa"
      },
      "source": [
        "## Importing librairies"
      ],
      "id": "LyHQA2__GUWa"
    },
    {
      "cell_type": "code",
      "metadata": {
        "id": "permanent-marble"
      },
      "source": [
        "%matplotlib inline\n",
        "import numpy as np\n",
        "import pandas as pd\n",
        "\n",
        "from keras.models import Sequential\n",
        "from keras.layers import Dense, Dropout, GlobalAveragePooling2D, BatchNormalization\n",
        "from keras.preprocessing.image import ImageDataGenerator\n",
        "from keras.utils import np_utils \n",
        "from keras.metrics import Recall\n",
        "\n",
        "from tensorflow.keras.models import Model\n",
        "from tensorflow.keras.applications import VGG16\n",
        "\n",
        "from sklearn import metrics\n",
        "from sklearn.model_selection import train_test_split\n",
        "\n",
        "import itertools\n",
        "\n",
        "import matplotlib.pyplot as plt\n",
        "from matplotlib import cm\n",
        "\n",
        "# set timezone\n",
        "import time\n",
        "os.environ['TZ'] = 'Europe/Paris'\n",
        "time.tzset()\n",
        "\n",
        "### Custom matplotlib Colab dark theme Caro\n",
        "plt.rcParams.update({\n",
        "    \"figure.figsize\": [6,4.5],\n",
        "    \"lines.color\": \"white\",\n",
        "    \"patch.edgecolor\": \"white\",\n",
        "    \"text.color\": \"#CDD2E9\",\n",
        "    \"axes.facecolor\": \"#383838\",\n",
        "    \"axes.edgecolor\": \"#899ab8\",      \n",
        "    \"axes.labelcolor\": \"white\",\n",
        "    \"xtick.color\": \"white\",\n",
        "    \"ytick.color\": \"white\",\n",
        "    \"grid.color\": \"#546379\",\n",
        "    \"figure.facecolor\": \"#383838\",\n",
        "    \"figure.edgecolor\": \"#899ab8\",\n",
        "    \"savefig.facecolor\": \"#383838\",\n",
        "    \"savefig.edgecolor\": \"#899ab8\"})"
      ],
      "id": "permanent-marble",
      "execution_count": null,
      "outputs": []
    },
    {
      "cell_type": "markdown",
      "metadata": {
        "id": "political-stuart"
      },
      "source": [
        "## Create a dataframe with filepaths and classes\n",
        "\n",
        "Since the metadata files were missing a file for the COVID type, we re-listed ourselves the files contained in each of the three folders and assigned labels and class numbers accordingly.\n",
        "\n",
        "The three classes were one-hot encoded in order to not use the `sparse_categorical_crossentropy` loss function but the `categorical_crossentropy` and thus be able to use binary metrics such as Precision or Recall."
      ],
      "id": "political-stuart"
    },
    {
      "cell_type": "code",
      "metadata": {
        "colab": {
          "base_uri": "https://localhost:8080/",
          "height": 547
        },
        "id": "formed-grain",
        "outputId": "258e29ba-771a-4166-d7f5-a3e5012dd06e"
      },
      "source": [
        "#### Get all filepaths and corresponding folder==class\n",
        "import os.path\n",
        "from natsort import natsorted\n",
        "\n",
        "# data root folder\n",
        "# datapath = \"data/\"    # Caro local\n",
        "# datapath = \"/content/gdrive/My Drive/pyCOVID/data/\"   # Google Colab mounted Google Drive\n",
        "datapath = \"./data/\"    # Google Colab local\n",
        "\n",
        "types = [\"Viral Pneumonia\", \"NORMAL\", \"COVID\"]\n",
        "files = []       # filepaths of all image for each folder/type\n",
        "\n",
        "for t in types:\n",
        "    # list of filepaths in each folder/type\n",
        "    files.append([datapath + t + \"/\" + f for f in os.listdir(datapath + t + \"/\")if os.path.isfile(os.path.join(datapath + t + \"/\", f))])\n",
        "    \n",
        "# flatten the list of 3 sublists\n",
        "files = [item for sublist in files for item in sublist]\n",
        "\n",
        "# turn into a naturally sorted DF\n",
        "df = pd.DataFrame(natsorted(files), columns=[\"filepaths\"])\n",
        "\n",
        "# add labels\n",
        "df[\"label\"] = np.where(df.filepaths.str.contains(\"Viral Pneumonia\"), \"ViralPneumonia\",\n",
        "                       np.where(df.filepaths.str.contains(\"NORMAL\"), \"Normal\", \"COVID\"))\n",
        "\n",
        "onehot = pd.get_dummies(df[\"label\"])\n",
        "\n",
        "df = pd.concat([df, onehot], axis=1)\n",
        "\n",
        "df[\"class\"] = np.where(df.filepaths.str.contains(\"Viral Pneumonia\"), \"2\",\n",
        "                       np.where(df.filepaths.str.contains(\"NORMAL\"), \"0\", \"1\"))\n",
        "\n",
        "df = df[[\"filepaths\", \"label\", \"class\", \"Normal\", \"COVID\", \"ViralPneumonia\"]]\n",
        "\n",
        "print(\"Number of files per type:\")\n",
        "print(df[\"label\"].value_counts())\n",
        "print(\"\\nLabels and classes:\")\n",
        "print(\"Normal\\t\\t= 0\\nCOVID\\t\\t= 1\\nViral Pneumonia\\t= 2\")\n",
        "\n",
        "df.head(10)"
      ],
      "id": "formed-grain",
      "execution_count": null,
      "outputs": [
        {
          "output_type": "stream",
          "text": [
            "Number of files per type:\n",
            "ViralPneumonia    1345\n",
            "Normal            1341\n",
            "COVID             1200\n",
            "Name: label, dtype: int64\n",
            "\n",
            "Labels and classes:\n",
            "Normal\t\t= 0\n",
            "COVID\t\t= 1\n",
            "Viral Pneumonia\t= 2\n"
          ],
          "name": "stdout"
        },
        {
          "output_type": "execute_result",
          "data": {
            "text/html": [
              "<div>\n",
              "<style scoped>\n",
              "    .dataframe tbody tr th:only-of-type {\n",
              "        vertical-align: middle;\n",
              "    }\n",
              "\n",
              "    .dataframe tbody tr th {\n",
              "        vertical-align: top;\n",
              "    }\n",
              "\n",
              "    .dataframe thead th {\n",
              "        text-align: right;\n",
              "    }\n",
              "</style>\n",
              "<table border=\"1\" class=\"dataframe\">\n",
              "  <thead>\n",
              "    <tr style=\"text-align: right;\">\n",
              "      <th></th>\n",
              "      <th>filepaths</th>\n",
              "      <th>label</th>\n",
              "      <th>class</th>\n",
              "      <th>Normal</th>\n",
              "      <th>COVID</th>\n",
              "      <th>ViralPneumonia</th>\n",
              "    </tr>\n",
              "  </thead>\n",
              "  <tbody>\n",
              "    <tr>\n",
              "      <th>0</th>\n",
              "      <td>./data/COVID/COVID (1).png</td>\n",
              "      <td>COVID</td>\n",
              "      <td>1</td>\n",
              "      <td>0</td>\n",
              "      <td>1</td>\n",
              "      <td>0</td>\n",
              "    </tr>\n",
              "    <tr>\n",
              "      <th>1</th>\n",
              "      <td>./data/COVID/COVID (2).png</td>\n",
              "      <td>COVID</td>\n",
              "      <td>1</td>\n",
              "      <td>0</td>\n",
              "      <td>1</td>\n",
              "      <td>0</td>\n",
              "    </tr>\n",
              "    <tr>\n",
              "      <th>2</th>\n",
              "      <td>./data/COVID/COVID (3).png</td>\n",
              "      <td>COVID</td>\n",
              "      <td>1</td>\n",
              "      <td>0</td>\n",
              "      <td>1</td>\n",
              "      <td>0</td>\n",
              "    </tr>\n",
              "    <tr>\n",
              "      <th>3</th>\n",
              "      <td>./data/COVID/COVID (4).png</td>\n",
              "      <td>COVID</td>\n",
              "      <td>1</td>\n",
              "      <td>0</td>\n",
              "      <td>1</td>\n",
              "      <td>0</td>\n",
              "    </tr>\n",
              "    <tr>\n",
              "      <th>4</th>\n",
              "      <td>./data/COVID/COVID (5).png</td>\n",
              "      <td>COVID</td>\n",
              "      <td>1</td>\n",
              "      <td>0</td>\n",
              "      <td>1</td>\n",
              "      <td>0</td>\n",
              "    </tr>\n",
              "    <tr>\n",
              "      <th>5</th>\n",
              "      <td>./data/COVID/COVID (6).png</td>\n",
              "      <td>COVID</td>\n",
              "      <td>1</td>\n",
              "      <td>0</td>\n",
              "      <td>1</td>\n",
              "      <td>0</td>\n",
              "    </tr>\n",
              "    <tr>\n",
              "      <th>6</th>\n",
              "      <td>./data/COVID/COVID (7).png</td>\n",
              "      <td>COVID</td>\n",
              "      <td>1</td>\n",
              "      <td>0</td>\n",
              "      <td>1</td>\n",
              "      <td>0</td>\n",
              "    </tr>\n",
              "    <tr>\n",
              "      <th>7</th>\n",
              "      <td>./data/COVID/COVID (8).png</td>\n",
              "      <td>COVID</td>\n",
              "      <td>1</td>\n",
              "      <td>0</td>\n",
              "      <td>1</td>\n",
              "      <td>0</td>\n",
              "    </tr>\n",
              "    <tr>\n",
              "      <th>8</th>\n",
              "      <td>./data/COVID/COVID (9).png</td>\n",
              "      <td>COVID</td>\n",
              "      <td>1</td>\n",
              "      <td>0</td>\n",
              "      <td>1</td>\n",
              "      <td>0</td>\n",
              "    </tr>\n",
              "    <tr>\n",
              "      <th>9</th>\n",
              "      <td>./data/COVID/COVID (10).png</td>\n",
              "      <td>COVID</td>\n",
              "      <td>1</td>\n",
              "      <td>0</td>\n",
              "      <td>1</td>\n",
              "      <td>0</td>\n",
              "    </tr>\n",
              "  </tbody>\n",
              "</table>\n",
              "</div>"
            ],
            "text/plain": [
              "                     filepaths  label class  Normal  COVID  ViralPneumonia\n",
              "0   ./data/COVID/COVID (1).png  COVID     1       0      1               0\n",
              "1   ./data/COVID/COVID (2).png  COVID     1       0      1               0\n",
              "2   ./data/COVID/COVID (3).png  COVID     1       0      1               0\n",
              "3   ./data/COVID/COVID (4).png  COVID     1       0      1               0\n",
              "4   ./data/COVID/COVID (5).png  COVID     1       0      1               0\n",
              "5   ./data/COVID/COVID (6).png  COVID     1       0      1               0\n",
              "6   ./data/COVID/COVID (7).png  COVID     1       0      1               0\n",
              "7   ./data/COVID/COVID (8).png  COVID     1       0      1               0\n",
              "8   ./data/COVID/COVID (9).png  COVID     1       0      1               0\n",
              "9  ./data/COVID/COVID (10).png  COVID     1       0      1               0"
            ]
          },
          "metadata": {
            "tags": []
          },
          "execution_count": 4
        }
      ]
    },
    {
      "cell_type": "markdown",
      "metadata": {
        "id": "imported-pressure"
      },
      "source": [
        "## Split data: training / test\n",
        "We split the data with the training set representing 80% of the complete dataset, and the testing set representing the remaining 20%. The split is stratified, to preserve the proportions of classes in both sets."
      ],
      "id": "imported-pressure"
    },
    {
      "cell_type": "code",
      "metadata": {
        "colab": {
          "base_uri": "https://localhost:8080/"
        },
        "id": "wvRT6cIrHBZc",
        "outputId": "4b4d04f0-04ba-4ea4-a5b1-b51b10af4090"
      },
      "source": [
        "data_train, data_test = train_test_split(df, \n",
        "                                         test_size=0.2, \n",
        "                                         stratify=df[\"class\"], \n",
        "                                         random_state=123)\n",
        "\n",
        "print(data_train.shape, data_test.shape)"
      ],
      "id": "wvRT6cIrHBZc",
      "execution_count": null,
      "outputs": [
        {
          "output_type": "stream",
          "text": [
            "(3108, 6) (778, 6)\n"
          ],
          "name": "stdout"
        }
      ]
    },
    {
      "cell_type": "markdown",
      "metadata": {
        "id": "collective-peeing"
      },
      "source": [
        "## Image generator\n",
        "\n",
        "We'll be implementing several transformations on the training dataset :\n",
        "\n",
        "* rotation\n",
        "* horizontal/vertical shift\n",
        "* horizontal/vertical flip"
      ],
      "id": "collective-peeing"
    },
    {
      "cell_type": "code",
      "metadata": {
        "colab": {
          "base_uri": "https://localhost:8080/"
        },
        "id": "arabic-league",
        "outputId": "ef06b528-49ad-4e19-a423-49c0f51aa4ba"
      },
      "source": [
        "### Image generator\n",
        "train_data_generator = ImageDataGenerator(rescale = 1./255,\n",
        "                                          rotation_range=10,\n",
        "                                          width_shift_range=.1,\n",
        "                                          height_shift_range=.1,\n",
        "                                          # zoom_range=.1,\n",
        "                                          # brightness_range=[0.2,1.0],\n",
        "                                          horizontal_flip=True,\n",
        "                                          vertical_flip=True)\n",
        "\n",
        "test_data_generator = ImageDataGenerator(rescale = 1./255)\n",
        "\n",
        "### Iterator\n",
        "batch_size = 32\n",
        "n_class = len(df[\"class\"].unique())\n",
        "\n",
        "# pour éviter l'erreur If class_mode=\"sparse\", y_col=\"class\" column values must be strings.\n",
        "# il faut convertir data[\"class\"] en str()\n",
        "\n",
        "pd.options.mode.chained_assignment = None   # suppress Pandas SettingWithCopyWarning\n",
        "data_train[\"class\"] = data_train[\"class\"].astype(str)\n",
        "data_test[\"class\"] = data_test[\"class\"].astype(str)\n",
        "pd.options.mode.chained_assignment = \"warn\"   # set default back\n",
        "\n",
        "training_set = train_data_generator.flow_from_dataframe(dataframe=data_train,      # df contenant les infos\n",
        "                                                        x_col=\"filepaths\",         # col du df contenant les filepaths\n",
        "                                                        y_col=[\"Normal\", \"COVID\", \"ViralPneumonia\"],             # cols du df contenant les one hot encoded classes\n",
        "                                                        class_mode=\"raw\",       # pour prendre les 4 colonnes\n",
        "                                                        target_size=(224,224),     # taille des images à redimensionner\n",
        "                                                         color_mode=\"rgb\",      # images en couleurs                                                       \n",
        "                                                        batch_size=batch_size)\n",
        "\n",
        "test_set = test_data_generator.flow_from_dataframe(dataframe=data_test,         # df contenant les infos\n",
        "                                                   x_col=\"filepaths\",           # col du df contenant les filepaths\n",
        "                                                   y_col=[\"Normal\", \"COVID\", \"ViralPneumonia\"],             # cols du df contenant les one hot encoded classes\n",
        "                                                   class_mode=\"raw\",         # pour prendre les 4 colonnes\n",
        "                                                   target_size=(224,224),       # taille des images à redimensionner\n",
        "                                                   color_mode=\"rgb\",            # images en couleurs\n",
        "                                                   shuffle = False,             # nécessaire pour que les prédictions soient dans le même ordre que les vraies valeurs\n",
        "                                                   batch_size=batch_size)"
      ],
      "id": "arabic-league",
      "execution_count": null,
      "outputs": [
        {
          "output_type": "stream",
          "text": [
            "Found 3108 validated image filenames.\n",
            "Found 778 validated image filenames.\n"
          ],
          "name": "stdout"
        }
      ]
    },
    {
      "cell_type": "markdown",
      "metadata": {
        "id": "stock-millennium"
      },
      "source": [
        "## Network design\n",
        "\n",
        "We use the DenseNet121 model<sup>1, 2</sup> with its weights set to the `imagenet` dataset and without the fully connected layers (`include_top = False`).\n",
        "\n",
        "<br>\n",
        "\n",
        "---\n",
        "\n",
        "1: Densely Connected Convolutional Networks, Huang _et al._, 2018, [arXiv](https://arxiv.org/pdf/1608.06993.pdf)\n",
        "\n",
        "2: https://towardsdatascience.com/understanding-and-visualizing-densenets-7f688092391a\n"
      ],
      "id": "stock-millennium"
    },
    {
      "cell_type": "code",
      "metadata": {
        "id": "hairy-tuition",
        "colab": {
          "base_uri": "https://localhost:8080/"
        },
        "outputId": "3cf69720-c69b-46de-dd77-1c4c354ca5b9"
      },
      "source": [
        "model=VGG16(weights='imagenet',include_top=False, input_shape=(224, 224, 3)) \n",
        "\n",
        "model_output = model.output\n",
        "\n",
        "model_output = GlobalAveragePooling2D()(model_output)\n",
        "model_output = BatchNormalization()(model_output)\n",
        "model_output = Dropout(rate = 0.2)(model_output)\n",
        "model_output = Dense(units = 1024, activation = 'relu')(model_output) \n",
        "model_output = Dense(units = 512, activation = 'relu')(model_output) \n",
        "model_output = BatchNormalization()(model_output)\n",
        "model_output = Dropout(rate = 0.2)(model_output)\n",
        "\n",
        "preds = Dense(units = n_class, activation = 'softmax')(model_output) # FC-layer\n",
        "\n",
        "model = Model(inputs = model.input, outputs = preds)\n",
        "\n",
        "# Freezing DenseNet121 layers' weights\n",
        "for layer in model.layers[:-8]:\n",
        "    layer.trainable=False\n",
        "    \n",
        "for layer in model.layers[-8:]:\n",
        "    layer.trainable=True\n",
        "\n",
        "model.summary()"
      ],
      "id": "hairy-tuition",
      "execution_count": null,
      "outputs": [
        {
          "output_type": "stream",
          "text": [
            "Downloading data from https://storage.googleapis.com/tensorflow/keras-applications/vgg16/vgg16_weights_tf_dim_ordering_tf_kernels_notop.h5\n",
            "58892288/58889256 [==============================] - 0s 0us/step\n",
            "Model: \"model\"\n",
            "_________________________________________________________________\n",
            "Layer (type)                 Output Shape              Param #   \n",
            "=================================================================\n",
            "input_1 (InputLayer)         [(None, 224, 224, 3)]     0         \n",
            "_________________________________________________________________\n",
            "block1_conv1 (Conv2D)        (None, 224, 224, 64)      1792      \n",
            "_________________________________________________________________\n",
            "block1_conv2 (Conv2D)        (None, 224, 224, 64)      36928     \n",
            "_________________________________________________________________\n",
            "block1_pool (MaxPooling2D)   (None, 112, 112, 64)      0         \n",
            "_________________________________________________________________\n",
            "block2_conv1 (Conv2D)        (None, 112, 112, 128)     73856     \n",
            "_________________________________________________________________\n",
            "block2_conv2 (Conv2D)        (None, 112, 112, 128)     147584    \n",
            "_________________________________________________________________\n",
            "block2_pool (MaxPooling2D)   (None, 56, 56, 128)       0         \n",
            "_________________________________________________________________\n",
            "block3_conv1 (Conv2D)        (None, 56, 56, 256)       295168    \n",
            "_________________________________________________________________\n",
            "block3_conv2 (Conv2D)        (None, 56, 56, 256)       590080    \n",
            "_________________________________________________________________\n",
            "block3_conv3 (Conv2D)        (None, 56, 56, 256)       590080    \n",
            "_________________________________________________________________\n",
            "block3_pool (MaxPooling2D)   (None, 28, 28, 256)       0         \n",
            "_________________________________________________________________\n",
            "block4_conv1 (Conv2D)        (None, 28, 28, 512)       1180160   \n",
            "_________________________________________________________________\n",
            "block4_conv2 (Conv2D)        (None, 28, 28, 512)       2359808   \n",
            "_________________________________________________________________\n",
            "block4_conv3 (Conv2D)        (None, 28, 28, 512)       2359808   \n",
            "_________________________________________________________________\n",
            "block4_pool (MaxPooling2D)   (None, 14, 14, 512)       0         \n",
            "_________________________________________________________________\n",
            "block5_conv1 (Conv2D)        (None, 14, 14, 512)       2359808   \n",
            "_________________________________________________________________\n",
            "block5_conv2 (Conv2D)        (None, 14, 14, 512)       2359808   \n",
            "_________________________________________________________________\n",
            "block5_conv3 (Conv2D)        (None, 14, 14, 512)       2359808   \n",
            "_________________________________________________________________\n",
            "block5_pool (MaxPooling2D)   (None, 7, 7, 512)         0         \n",
            "_________________________________________________________________\n",
            "global_average_pooling2d (Gl (None, 512)               0         \n",
            "_________________________________________________________________\n",
            "batch_normalization (BatchNo (None, 512)               2048      \n",
            "_________________________________________________________________\n",
            "dropout (Dropout)            (None, 512)               0         \n",
            "_________________________________________________________________\n",
            "dense (Dense)                (None, 1024)              525312    \n",
            "_________________________________________________________________\n",
            "dense_1 (Dense)              (None, 512)               524800    \n",
            "_________________________________________________________________\n",
            "batch_normalization_1 (Batch (None, 512)               2048      \n",
            "_________________________________________________________________\n",
            "dropout_1 (Dropout)          (None, 512)               0         \n",
            "_________________________________________________________________\n",
            "dense_2 (Dense)              (None, 3)                 1539      \n",
            "=================================================================\n",
            "Total params: 15,770,435\n",
            "Trainable params: 1,053,699\n",
            "Non-trainable params: 14,716,736\n",
            "_________________________________________________________________\n"
          ],
          "name": "stdout"
        }
      ]
    },
    {
      "cell_type": "markdown",
      "metadata": {
        "id": "rcQgBbUmPMb8"
      },
      "source": [
        "### Compilation\n",
        "\n",
        "Adding recall metrics for each **class**."
      ],
      "id": "rcQgBbUmPMb8"
    },
    {
      "cell_type": "code",
      "metadata": {
        "id": "known-reynolds"
      },
      "source": [
        "## compilation\n",
        "model.compile(optimizer = \"adam\", \n",
        "                   loss = \"categorical_crossentropy\",                   \n",
        "                   metrics = [\"accuracy\", \n",
        "                              Recall(class_id=0, name=\"recall_norm\"),\n",
        "                              Recall(class_id=1, name=\"recall_COV\"),\n",
        "                              Recall(class_id=2, name=\"recall_VP\")])"
      ],
      "id": "known-reynolds",
      "execution_count": null,
      "outputs": []
    },
    {
      "cell_type": "markdown",
      "metadata": {
        "id": "HSr4f0OT0idK"
      },
      "source": [
        "### Callbacks\n",
        "\n",
        "Adding callbacks:\n",
        "\n",
        "* ReduceLROnPlateau: based on `val_loss`\n",
        "* EarlyStopping: based on `val_loss`\n",
        "* ModelCheckpoint: based on `val_loss`"
      ],
      "id": "HSr4f0OT0idK"
    },
    {
      "cell_type": "code",
      "metadata": {
        "scrolled": false,
        "id": "early-audience"
      },
      "source": [
        "## callbacks\n",
        "# early stopping : stopper l'entraînement lorsque val_loss est minimisé\n",
        "from keras.callbacks import EarlyStopping, ReduceLROnPlateau, ModelCheckpoint\n",
        "\n",
        "early_stopping_callback = EarlyStopping(monitor='val_loss', \n",
        "                                        patience=10, \n",
        "                                        mode=\"min\", \n",
        "                                        restore_best_weights=True)\n",
        "\n",
        "# save best model (with minimum val_loss)\n",
        "timestr = time.strftime(\"%Y-%m-%d_%H-%M-%S\")\n",
        "filepath = 'best_VGG16--' + timestr + '.h5'\n",
        "\n",
        "checkpoint_callback = ModelCheckpoint(filepath=filepath, monitor='val_loss', verbose=1, save_best_only=True, mode='min')\n",
        "\n",
        "# reduce learning rate when reaching val_loss plateau (default factor = 0.1)\n",
        "lr_plateau = ReduceLROnPlateau(monitor=\"val_loss\", patience = 3, verbose = 2, mode = \"min\")"
      ],
      "id": "early-audience",
      "execution_count": null,
      "outputs": []
    },
    {
      "cell_type": "markdown",
      "metadata": {
        "id": "RjVzT0pY03n-"
      },
      "source": [
        "### Fitting\n",
        "\n",
        "We fit over 50 epochs."
      ],
      "id": "RjVzT0pY03n-"
    },
    {
      "cell_type": "code",
      "metadata": {
        "colab": {
          "base_uri": "https://localhost:8080/"
        },
        "id": "sgovRaff02Ya",
        "outputId": "a6704868-2106-4168-d2e5-d4bd5a478add"
      },
      "source": [
        "epochs = 50\n",
        "\n",
        "## fitting\n",
        "training_history = model.fit(training_set,\n",
        "                             epochs=epochs, \n",
        "                             steps_per_epoch=len(training_set._filepaths) // batch_size,\n",
        "                             workers = -1, \n",
        "                             validation_data=test_set, \n",
        "                             validation_steps=len(test_set._filepaths) // batch_size,\n",
        "                             callbacks = [early_stopping_callback, lr_plateau, checkpoint_callback],\n",
        "                             verbose=1)"
      ],
      "id": "sgovRaff02Ya",
      "execution_count": null,
      "outputs": [
        {
          "output_type": "stream",
          "text": [
            "Epoch 1/50\n",
            "97/97 [==============================] - 91s 846ms/step - loss: 0.5841 - accuracy: 0.8375 - recall_norm: 0.8472 - recall_COV: 0.8980 - recall_VP: 0.7477 - val_loss: 0.9520 - val_accuracy: 0.6380 - val_recall_norm: 0.9205 - val_recall_COV: 0.0000e+00 - val_recall_VP: 0.8453\n",
            "\n",
            "Epoch 00001: val_loss improved from inf to 0.95201, saving model to best_VGG16--2021-02-22_19-55-42.h5\n",
            "Epoch 2/50\n",
            "97/97 [==============================] - 81s 841ms/step - loss: 0.2621 - accuracy: 0.9113 - recall_norm: 0.8970 - recall_COV: 0.9477 - recall_VP: 0.8831 - val_loss: 0.6899 - val_accuracy: 0.6953 - val_recall_norm: 0.9697 - val_recall_COV: 0.1381 - val_recall_VP: 0.7887\n",
            "\n",
            "Epoch 00002: val_loss improved from 0.95201 to 0.68989, saving model to best_VGG16--2021-02-22_19-55-42.h5\n",
            "Epoch 3/50\n",
            "97/97 [==============================] - 81s 832ms/step - loss: 0.2157 - accuracy: 0.9249 - recall_norm: 0.9253 - recall_COV: 0.9555 - recall_VP: 0.8914 - val_loss: 0.3983 - val_accuracy: 0.8672 - val_recall_norm: 0.9697 - val_recall_COV: 0.6611 - val_recall_VP: 0.8642\n",
            "\n",
            "Epoch 00003: val_loss improved from 0.68989 to 0.39830, saving model to best_VGG16--2021-02-22_19-55-42.h5\n",
            "Epoch 4/50\n",
            "97/97 [==============================] - 80s 830ms/step - loss: 0.2149 - accuracy: 0.9203 - recall_norm: 0.9152 - recall_COV: 0.9562 - recall_VP: 0.8827 - val_loss: 0.2521 - val_accuracy: 0.9010 - val_recall_norm: 0.9735 - val_recall_COV: 0.8703 - val_recall_VP: 0.8377\n",
            "\n",
            "Epoch 00004: val_loss improved from 0.39830 to 0.25210, saving model to best_VGG16--2021-02-22_19-55-42.h5\n",
            "Epoch 5/50\n",
            "97/97 [==============================] - 80s 831ms/step - loss: 0.1695 - accuracy: 0.9350 - recall_norm: 0.9424 - recall_COV: 0.9572 - recall_VP: 0.9024 - val_loss: 0.1988 - val_accuracy: 0.9258 - val_recall_norm: 0.8939 - val_recall_COV: 0.9163 - val_recall_VP: 0.9547\n",
            "\n",
            "Epoch 00005: val_loss improved from 0.25210 to 0.19881, saving model to best_VGG16--2021-02-22_19-55-42.h5\n",
            "Epoch 6/50\n",
            "97/97 [==============================] - 80s 829ms/step - loss: 0.1830 - accuracy: 0.9390 - recall_norm: 0.9321 - recall_COV: 0.9680 - recall_VP: 0.9154 - val_loss: 0.1697 - val_accuracy: 0.9453 - val_recall_norm: 0.9583 - val_recall_COV: 0.9498 - val_recall_VP: 0.9208\n",
            "\n",
            "Epoch 00006: val_loss improved from 0.19881 to 0.16973, saving model to best_VGG16--2021-02-22_19-55-42.h5\n",
            "Epoch 7/50\n",
            "97/97 [==============================] - 81s 831ms/step - loss: 0.1871 - accuracy: 0.9331 - recall_norm: 0.9437 - recall_COV: 0.9545 - recall_VP: 0.8937 - val_loss: 0.1825 - val_accuracy: 0.9336 - val_recall_norm: 0.9583 - val_recall_COV: 0.9665 - val_recall_VP: 0.8755\n",
            "\n",
            "Epoch 00007: val_loss did not improve from 0.16973\n",
            "Epoch 8/50\n",
            "97/97 [==============================] - 80s 829ms/step - loss: 0.1769 - accuracy: 0.9324 - recall_norm: 0.9296 - recall_COV: 0.9551 - recall_VP: 0.9106 - val_loss: 0.1959 - val_accuracy: 0.9297 - val_recall_norm: 0.9773 - val_recall_COV: 0.9540 - val_recall_VP: 0.8604\n",
            "\n",
            "Epoch 00008: val_loss did not improve from 0.16973\n",
            "Epoch 9/50\n",
            "97/97 [==============================] - 80s 828ms/step - loss: 0.1778 - accuracy: 0.9365 - recall_norm: 0.9465 - recall_COV: 0.9551 - recall_VP: 0.9040 - val_loss: 0.1638 - val_accuracy: 0.9427 - val_recall_norm: 0.9659 - val_recall_COV: 0.9623 - val_recall_VP: 0.9019\n",
            "\n",
            "Epoch 00009: val_loss improved from 0.16973 to 0.16383, saving model to best_VGG16--2021-02-22_19-55-42.h5\n",
            "Epoch 10/50\n",
            "97/97 [==============================] - 80s 827ms/step - loss: 0.2050 - accuracy: 0.9307 - recall_norm: 0.9320 - recall_COV: 0.9637 - recall_VP: 0.8995 - val_loss: 0.1484 - val_accuracy: 0.9505 - val_recall_norm: 0.9318 - val_recall_COV: 0.9665 - val_recall_VP: 0.9509\n",
            "\n",
            "Epoch 00010: val_loss improved from 0.16383 to 0.14837, saving model to best_VGG16--2021-02-22_19-55-42.h5\n",
            "Epoch 11/50\n",
            "97/97 [==============================] - 81s 832ms/step - loss: 0.1894 - accuracy: 0.9313 - recall_norm: 0.9296 - recall_COV: 0.9659 - recall_VP: 0.8916 - val_loss: 0.1707 - val_accuracy: 0.9466 - val_recall_norm: 0.9811 - val_recall_COV: 0.9749 - val_recall_VP: 0.8830\n",
            "\n",
            "Epoch 00011: val_loss did not improve from 0.14837\n",
            "Epoch 12/50\n",
            "97/97 [==============================] - 80s 827ms/step - loss: 0.1992 - accuracy: 0.9357 - recall_norm: 0.9437 - recall_COV: 0.9459 - recall_VP: 0.9072 - val_loss: 0.1585 - val_accuracy: 0.9479 - val_recall_norm: 0.9470 - val_recall_COV: 0.9623 - val_recall_VP: 0.9321\n",
            "\n",
            "Epoch 00012: val_loss did not improve from 0.14837\n",
            "Epoch 13/50\n",
            "97/97 [==============================] - 80s 828ms/step - loss: 0.1706 - accuracy: 0.9451 - recall_norm: 0.9525 - recall_COV: 0.9678 - recall_VP: 0.9111 - val_loss: 0.1257 - val_accuracy: 0.9531 - val_recall_norm: 0.9432 - val_recall_COV: 0.9707 - val_recall_VP: 0.9472\n",
            "\n",
            "Epoch 00013: val_loss improved from 0.14837 to 0.12572, saving model to best_VGG16--2021-02-22_19-55-42.h5\n",
            "Epoch 14/50\n",
            "97/97 [==============================] - 80s 827ms/step - loss: 0.1534 - accuracy: 0.9454 - recall_norm: 0.9341 - recall_COV: 0.9757 - recall_VP: 0.9222 - val_loss: 0.1565 - val_accuracy: 0.9492 - val_recall_norm: 0.9659 - val_recall_COV: 0.9707 - val_recall_VP: 0.9132\n",
            "\n",
            "Epoch 00014: val_loss did not improve from 0.12572\n",
            "Epoch 15/50\n",
            "97/97 [==============================] - 80s 827ms/step - loss: 0.1893 - accuracy: 0.9394 - recall_norm: 0.9477 - recall_COV: 0.9691 - recall_VP: 0.8974 - val_loss: 0.1917 - val_accuracy: 0.9349 - val_recall_norm: 0.9697 - val_recall_COV: 0.9498 - val_recall_VP: 0.8868\n",
            "\n",
            "Epoch 00015: val_loss did not improve from 0.12572\n",
            "Epoch 16/50\n",
            "97/97 [==============================] - 81s 841ms/step - loss: 0.1548 - accuracy: 0.9454 - recall_norm: 0.9538 - recall_COV: 0.9810 - recall_VP: 0.9070 - val_loss: 0.1522 - val_accuracy: 0.9518 - val_recall_norm: 0.9697 - val_recall_COV: 0.9791 - val_recall_VP: 0.9094\n",
            "\n",
            "Epoch 00016: ReduceLROnPlateau reducing learning rate to 0.00010000000474974513.\n",
            "\n",
            "Epoch 00016: val_loss did not improve from 0.12572\n",
            "Epoch 17/50\n",
            "97/97 [==============================] - 81s 833ms/step - loss: 0.1551 - accuracy: 0.9417 - recall_norm: 0.9533 - recall_COV: 0.9737 - recall_VP: 0.9009 - val_loss: 0.1416 - val_accuracy: 0.9583 - val_recall_norm: 0.9735 - val_recall_COV: 0.9791 - val_recall_VP: 0.9208\n",
            "\n",
            "Epoch 00017: val_loss did not improve from 0.12572\n",
            "Epoch 18/50\n",
            "97/97 [==============================] - 80s 828ms/step - loss: 0.1428 - accuracy: 0.9530 - recall_norm: 0.9542 - recall_COV: 0.9737 - recall_VP: 0.9295 - val_loss: 0.1342 - val_accuracy: 0.9557 - val_recall_norm: 0.9697 - val_recall_COV: 0.9874 - val_recall_VP: 0.9094\n",
            "\n",
            "Epoch 00018: val_loss did not improve from 0.12572\n",
            "Epoch 19/50\n",
            "97/97 [==============================] - 80s 829ms/step - loss: 0.1430 - accuracy: 0.9542 - recall_norm: 0.9535 - recall_COV: 0.9814 - recall_VP: 0.9283 - val_loss: 0.1258 - val_accuracy: 0.9557 - val_recall_norm: 0.9697 - val_recall_COV: 0.9791 - val_recall_VP: 0.9208\n",
            "\n",
            "Epoch 00019: ReduceLROnPlateau reducing learning rate to 1.0000000474974514e-05.\n",
            "\n",
            "Epoch 00019: val_loss did not improve from 0.12572\n",
            "Epoch 20/50\n",
            "97/97 [==============================] - 80s 825ms/step - loss: 0.1158 - accuracy: 0.9627 - recall_norm: 0.9627 - recall_COV: 0.9859 - recall_VP: 0.9376 - val_loss: 0.1258 - val_accuracy: 0.9570 - val_recall_norm: 0.9697 - val_recall_COV: 0.9833 - val_recall_VP: 0.9208\n",
            "\n",
            "Epoch 00020: val_loss did not improve from 0.12572\n",
            "Epoch 21/50\n",
            "97/97 [==============================] - 80s 828ms/step - loss: 0.1328 - accuracy: 0.9504 - recall_norm: 0.9408 - recall_COV: 0.9788 - recall_VP: 0.9294 - val_loss: 0.1277 - val_accuracy: 0.9544 - val_recall_norm: 0.9697 - val_recall_COV: 0.9791 - val_recall_VP: 0.9170\n",
            "\n",
            "Epoch 00021: val_loss did not improve from 0.12572\n",
            "Epoch 22/50\n",
            "97/97 [==============================] - 80s 827ms/step - loss: 0.1213 - accuracy: 0.9556 - recall_norm: 0.9547 - recall_COV: 0.9777 - recall_VP: 0.9336 - val_loss: 0.1269 - val_accuracy: 0.9557 - val_recall_norm: 0.9697 - val_recall_COV: 0.9791 - val_recall_VP: 0.9132\n",
            "\n",
            "Epoch 00022: ReduceLROnPlateau reducing learning rate to 1.0000000656873453e-06.\n",
            "\n",
            "Epoch 00022: val_loss did not improve from 0.12572\n",
            "Epoch 23/50\n",
            "97/97 [==============================] - 80s 826ms/step - loss: 0.1230 - accuracy: 0.9583 - recall_norm: 0.9604 - recall_COV: 0.9732 - recall_VP: 0.9407 - val_loss: 0.1262 - val_accuracy: 0.9557 - val_recall_norm: 0.9697 - val_recall_COV: 0.9791 - val_recall_VP: 0.9170\n",
            "\n",
            "Epoch 00023: val_loss did not improve from 0.12572\n"
          ],
          "name": "stdout"
        }
      ]
    },
    {
      "cell_type": "code",
      "metadata": {
        "id": "linear-liquid",
        "colab": {
          "base_uri": "https://localhost:8080/",
          "height": 313
        },
        "outputId": "2c80ef2a-35be-4c84-bcf6-ace9b58ab2ff"
      },
      "source": [
        "n_epochs = len(training_history.history[\"val_loss\"])        # total of epochs before early stopping\n",
        "n_epochs_best = np.argmin(training_history.history['val_loss'])    # best epoch based on val_loss (early_stopping), starting at epoch 1 (not 0)\n",
        "print(\"The best saved model was at epoch\", n_epochs_best + 1)\n",
        "\n",
        "plt.figure(figsize=(25,4))\n",
        "plt.subplot(131)\n",
        "plt.plot(training_history.history['loss'], \"--\")\n",
        "plt.plot(training_history.history['val_loss'])\n",
        "plt.title('Model loss by epoch')\n",
        "plt.ylabel('Loss')\n",
        "plt.xlabel('Epoch')\n",
        "plt.xticks(np.arange(n_epochs), np.arange(1, n_epochs+1))\n",
        "plt.axvline(x = n_epochs_best, color = \"r\", linestyle=\":\")\n",
        "plt.legend(['train', 'test'], loc='upper right')\n",
        "\n",
        "plt.subplot(132)\n",
        "plt.plot(training_history.history['accuracy'], \"--\")\n",
        "plt.plot(training_history.history['val_accuracy'])\n",
        "plt.title('Model accuracy by epoch')\n",
        "plt.ylabel('Accuracy')\n",
        "plt.xlabel('Epoch')\n",
        "plt.xticks(np.arange(n_epochs), np.arange(1, n_epochs+1))\n",
        "plt.axvline(x = n_epochs_best, color = \"r\", linestyle=\":\")\n",
        "plt.legend(['train', 'test'], loc='upper left')\n",
        "\n",
        "plt.subplot(133)\n",
        "plt.plot(training_history.history['val_recall_norm'], label=\"Normal\")\n",
        "plt.plot(training_history.history['val_recall_COV'], label=\"COVID\")\n",
        "plt.plot(training_history.history['val_recall_VP'], label=\"Viral Pneumonia\")\n",
        "plt.title('Recall by epoch on testing set')\n",
        "plt.ylabel('Recall')\n",
        "plt.xlabel('Epoch')\n",
        "plt.xticks(np.arange(n_epochs), np.arange(1, n_epochs+1))\n",
        "plt.axvline(x = n_epochs_best, color = \"r\", linestyle=\":\")\n",
        "plt.legend();"
      ],
      "id": "linear-liquid",
      "execution_count": null,
      "outputs": [
        {
          "output_type": "stream",
          "text": [
            "The best saved model was at epoch 13\n"
          ],
          "name": "stdout"
        },
        {
          "output_type": "display_data",
          "data": {
            "image/png": "[encoded data removed]",
            "text/plain": [
              "<Figure size 1800x288 with 3 Axes>"
            ]
          },
          "metadata": {
            "tags": []
          }
        }
      ]
    },
    {
      "cell_type": "markdown",
      "metadata": {
        "id": "jEf2EsffFmdR"
      },
      "source": [
        "## Model evaluation\n",
        "\n",
        "We evaluate the model based on recall."
      ],
      "id": "jEf2EsffFmdR"
    },
    {
      "cell_type": "code",
      "metadata": {
        "id": "executive-effort"
      },
      "source": [
        "# evaluate the model\n",
        "train_loss, train_acc, train_recall_norm, train_recall_COV, train_recall_VP = model.evaluate(training_set, verbose=0)\n",
        "test_loss, test_acc, test_recall_norm, test_recall_COV, test_recall_VP = model.evaluate(test_set, verbose=0)"
      ],
      "id": "executive-effort",
      "execution_count": null,
      "outputs": []
    },
    {
      "cell_type": "code",
      "metadata": {
        "id": "5IL91-tjryno",
        "colab": {
          "base_uri": "https://localhost:8080/"
        },
        "outputId": "4328a2e7-e9f1-4f1f-923e-49047a389031"
      },
      "source": [
        "print('Train accuracy: %.2f%%,\\t\\t\\tTest accuracy: %.2f%%' % (train_acc*100, test_acc*100))\n",
        "print('Train recall Normal: %.2f%%,\\t\\tTest recall Normal: %.2f%%' % (train_recall_norm*100, test_recall_norm*100))\n",
        "print('Train recall COVID: %.2f%%,\\t\\tTest recall COVID: %.2f%%' % (train_recall_COV*100, test_recall_COV*100))\n",
        "print('Train recall Viral Pneumonia: %.2f%%,\\tTest recall Viral Pneumonia: %.2f%%' % (train_recall_VP*100, test_recall_VP*100))"
      ],
      "id": "5IL91-tjryno",
      "execution_count": null,
      "outputs": [
        {
          "output_type": "stream",
          "text": [
            "Train accuracy: 96.20%,\t\t\tTest accuracy: 95.37%\n",
            "Train recall Normal: 93.56%,\t\tTest recall Normal: 94.42%\n",
            "Train recall COVID: 98.75%,\t\tTest recall COVID: 97.08%\n",
            "Train recall Viral Pneumonia: 96.19%,\tTest recall Viral Pneumonia: 94.80%\n"
          ],
          "name": "stdout"
        }
      ]
    },
    {
      "cell_type": "code",
      "metadata": {
        "id": "kZ3qmxUI5Cg4"
      },
      "source": [
        "# Prediction de l'échantillon de test\n",
        "test_pred = model.predict(test_set)\n",
        "\n",
        "# repasser en labels de classes\n",
        "y_test_class = np.array(data_test['class'].astype(int))\n",
        "test_pred_class = test_pred.argmax(axis=1)"
      ],
      "id": "kZ3qmxUI5Cg4",
      "execution_count": null,
      "outputs": []
    },
    {
      "cell_type": "code",
      "metadata": {
        "id": "sharing-couple",
        "colab": {
          "base_uri": "https://localhost:8080/",
          "height": 574
        },
        "outputId": "020a7f6c-5b6d-42e6-fa5a-d852c6e60063"
      },
      "source": [
        "### matrice de confusion\n",
        "cnf_matrix = metrics.confusion_matrix(y_test_class, test_pred_class)\n",
        "\n",
        "classes = range(0,n_class)\n",
        "labels_class = [\"Normal\", \"COVID\", \"Viral Pneumonia\"]\n",
        "\n",
        "plt.figure(figsize = (7,6))\n",
        "\n",
        "plt.imshow(cnf_matrix, interpolation='nearest',cmap='Blues')\n",
        "plt.title(\"Confusion matrix\")\n",
        "plt.colorbar()\n",
        "tick_marks = np.arange(len(classes))\n",
        "plt.xticks(tick_marks, labels_class)\n",
        "plt.yticks(tick_marks, labels_class)\n",
        "\n",
        "for i, j in itertools.product(range(cnf_matrix.shape[0]), range(cnf_matrix.shape[1])):\n",
        "    plt.text(j, i, cnf_matrix[i, j].round(2),\n",
        "             horizontalalignment = \"center\",\n",
        "             color = \"white\" if cnf_matrix[i, j] > ( cnf_matrix.max() / 2) else \"black\")\n",
        "\n",
        "plt.ylabel('True labels')\n",
        "plt.xlabel('Predicted labels');\n",
        "\n",
        "print(metrics.classification_report(y_test_class, test_pred_class))"
      ],
      "id": "sharing-couple",
      "execution_count": null,
      "outputs": [
        {
          "output_type": "stream",
          "text": [
            "              precision    recall  f1-score   support\n",
            "\n",
            "           0       0.94      0.94      0.94       269\n",
            "           1       1.00      0.97      0.99       240\n",
            "           2       0.92      0.95      0.94       269\n",
            "\n",
            "    accuracy                           0.95       778\n",
            "   macro avg       0.96      0.95      0.96       778\n",
            "weighted avg       0.95      0.95      0.95       778\n",
            "\n"
          ],
          "name": "stdout"
        },
        {
          "output_type": "display_data",
          "data": {
            "image/png": "[encoded data removed]",
            "text/plain": [
              "<Figure size 504x432 with 2 Axes>"
            ]
          },
          "metadata": {
            "tags": []
          }
        }
      ]
    },
    {
      "cell_type": "code",
      "metadata": {
        "id": "-CprCOo65rUv",
        "colab": {
          "base_uri": "https://localhost:8080/",
          "height": 574
        },
        "outputId": "1f90b832-92b1-499d-a0e6-771301860c5b"
      },
      "source": [
        "### matrice de confusion normalisée\n",
        "cnf_matrix = metrics.confusion_matrix(y_test_class, test_pred_class, normalize=\"true\")\n",
        "\n",
        "classes = range(0,n_class)\n",
        "labels_class = [\"Normal\", \"COVID\", \"Viral Pneumonia\"]\n",
        "\n",
        "plt.figure(figsize = (7,6))\n",
        "\n",
        "plt.imshow(cnf_matrix, interpolation='nearest',cmap='Blues')\n",
        "plt.title(\"Normalized confusion matrix\")\n",
        "plt.colorbar()\n",
        "tick_marks = np.arange(len(classes))\n",
        "plt.xticks(tick_marks, labels_class)\n",
        "plt.yticks(tick_marks, labels_class)\n",
        "\n",
        "for i, j in itertools.product(range(cnf_matrix.shape[0]), range(cnf_matrix.shape[1])):\n",
        "    plt.text(j, i, cnf_matrix[i, j].round(2),\n",
        "             horizontalalignment = \"center\",\n",
        "             color = \"white\" if cnf_matrix[i, j] > ( cnf_matrix.max() / 2) else \"black\")\n",
        "\n",
        "plt.ylabel('True labels')\n",
        "plt.xlabel('Predicted labels');\n",
        "\n",
        "print(metrics.classification_report(y_test_class, test_pred_class))"
      ],
      "id": "-CprCOo65rUv",
      "execution_count": null,
      "outputs": [
        {
          "output_type": "stream",
          "text": [
            "              precision    recall  f1-score   support\n",
            "\n",
            "           0       0.94      0.94      0.94       269\n",
            "           1       1.00      0.97      0.99       240\n",
            "           2       0.92      0.95      0.94       269\n",
            "\n",
            "    accuracy                           0.95       778\n",
            "   macro avg       0.96      0.95      0.96       778\n",
            "weighted avg       0.95      0.95      0.95       778\n",
            "\n"
          ],
          "name": "stdout"
        },
        {
          "output_type": "display_data",
          "data": {
            "image/png": "[encoded data removed]",
            "text/plain": [
              "<Figure size 504x432 with 2 Axes>"
            ]
          },
          "metadata": {
            "tags": []
          }
        }
      ]
    },
    {
      "cell_type": "markdown",
      "metadata": {
        "id": "nTkaR1H3OO-W"
      },
      "source": [
        "# Save model to Google Drive"
      ],
      "id": "nTkaR1H3OO-W"
    },
    {
      "cell_type": "code",
      "metadata": {
        "id": "1F0nV21nLFPJ"
      },
      "source": [
        "### Save full model to Google Drive\n",
        "\n",
        "# find file ending with .h5\n",
        "for file in os.listdir(\".\"):\n",
        "    if file.endswith(\".h5\"):\n",
        "        h5_path = os.path.join(\"/content/\", file)\n",
        "        model_name = file\n",
        "\n",
        "# copy from Colab to Drive\n",
        "!cp {h5_path} \"./gdrive/My Drive/pyCOVID/model/{model_name}\""
      ],
      "id": "1F0nV21nLFPJ",
      "execution_count": null,
      "outputs": []
    }
  ]
}